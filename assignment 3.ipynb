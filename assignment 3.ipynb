{
 "cells": [
  {
   "cell_type": "code",
   "execution_count": null,
   "id": "4c834e58",
   "metadata": {},
   "outputs": [],
   "source": [
    "x=input(\"enter word or sentence \" )\n",
    "y=input(\"enter word or letter \")\n",
    "if x.count(' ')>0 and len(y)>1:\n",
    "    print(x.count(y))\n",
    "elif x.count(' ') == 0 and len(y) == 1: \n",
    "    print(x.count(y))\n",
    "else: \n",
    "    print(\"invalid\")\n",
    "    \n"
   ]
  },
  {
   "cell_type": "code",
   "execution_count": 6,
   "id": "38d81c96",
   "metadata": {},
   "outputs": [
    {
     "name": "stdout",
     "output_type": "stream",
     "text": [
      "Enter date in following order\n",
      "enter date 12\n",
      "enter month 3\n",
      "enter year 2002\n",
      "next date is 13 / 3 / 2003\n"
     ]
    }
   ],
   "source": [
    "print(\"Enter date in following order\")\n",
    "\n",
    "d=int(input(\"enter date \"))\n",
    "\n",
    "m=int(input(\"enter month \"))\n",
    "\n",
    "y=int(input(\"enter year \"))\n",
    "\n",
    "\n",
    "mo=[1,3,5,7,8,10,12]\n",
    "if m in mo:\n",
    "        mod=31 \n",
    "         \n",
    "if m==2 and y%4!=0:\n",
    "        mod=28\n",
    "        print(d<28)\n",
    "if m not in mo:\n",
    "        mod=30\n",
    "        print(d<30)\n",
    "if m==2 and y%4== 0:\n",
    "        mod=29\n",
    "        print(d<29)\n",
    "    \n",
    "\n",
    "if d> 31 or d<1:\n",
    "    print(\"invalid date\")\n",
    "elif m> 12 or m<1:\n",
    "    print(\"invalid month\")\n",
    "elif y> 2025 or y<1880:\n",
    "    print(\"year not available\")\n",
    "if d==31 and m==12:\n",
    "    print(\"1 1 \",y+1)   \n",
    "else:\n",
    "    v=(d+1)%mod \n",
    "    w=(((d+1)//mod)+m)%12\n",
    "    x=(v//12)+y\n",
    "    print(\"next date is\",v,\"/\",w,\"/\",x)\n",
    "\n",
    "\n",
    "\n",
    "\n",
    "\n",
    "   \n",
    "\n",
    "    \n",
    "\n",
    "\n",
    "           \n",
    "    \n",
    "    "
   ]
  },
  {
   "cell_type": "code",
   "execution_count": 2,
   "id": "a520201f",
   "metadata": {},
   "outputs": [
    {
     "name": "stdout",
     "output_type": "stream",
     "text": [
      "[(3, 9), (9, 81), (10, 100)]\n"
     ]
    }
   ],
   "source": [
    "no = [3,9,10]\n",
    "y = []\n",
    "for x in no:\n",
    "    j=x**2\n",
    "    y.append(j)\n",
    "list_tuple = list(zip(no,y))\n",
    "print(list_tuple)\n"
   ]
  },
  {
   "cell_type": "code",
   "execution_count": 84,
   "id": "53a309e2",
   "metadata": {},
   "outputs": [
    {
     "name": "stdout",
     "output_type": "stream",
     "text": [
      "Enter grade 6\n",
      "your grade is C and Average\n"
     ]
    }
   ],
   "source": [
    "g=int(input(\"Enter grade \"))\n",
    "if g==4:\n",
    "    print(\"your grade is A and Excellent\")\n",
    "elif g==5:\n",
    "    print(\"your grade is C and Below Average\")\n",
    "elif g==6:\n",
    "    print(\"your grade is C and Average\")\n",
    "elif g==7:\n",
    "    print(\"your grade is B and Good\") \n",
    "elif g==8:\n",
    "    print(\"your grade is  B+ and Very Good\")    \n",
    "elif g==9:\n",
    "    print(\"your grade is A and Excellent\") \n",
    "elif g==10:\n",
    "    print(\"your grade is A+ and Outstanding\")  \n",
    "else:\n",
    "    print(\"invalid points,enter from 4-10\")\n",
    "    \n",
    "    "
   ]
  },
  {
   "cell_type": "code",
   "execution_count": 14,
   "id": "5080c715",
   "metadata": {},
   "outputs": [
    {
     "name": "stdout",
     "output_type": "stream",
     "text": [
      " \n",
      "  ABCDEFGHI\n",
      "   ABCDEFG\n",
      "    ABCDE\n",
      "     ABC\n",
      "      A\n"
     ]
    }
   ],
   "source": [
    "x=\"ABCDEFGHIJK\"\n",
    "m=0\n",
    "n=0\n",
    "p=\" \"\n",
    "while len(x) >= 1:\n",
    "    y=x[:-m]\n",
    "    print(n*p,y)\n",
    "    m=m+2\n",
    "    n=n+1\n",
    "    if y==\"A\":\n",
    "     break\n",
    "    "
   ]
  },
  {
   "cell_type": "code",
   "execution_count": 7,
   "id": "58218b81",
   "metadata": {},
   "outputs": [
    {
     "name": "stdout",
     "output_type": "stream",
     "text": [
      "Enter student name:s\n",
      "Enter student SID:2\n",
      "Enter Y to continue or N to end:y\n",
      "Enter student name:f\n",
      "Enter student SID:6\n",
      "Enter Y to continue or N to end:n\n",
      "\n",
      "Q.6(a)\n",
      "The Dictionary containing {'SID':'Name'} is shown below\n",
      "{2: 's', 6: 'f'}\n",
      "\n",
      "Q.6(b)\n",
      "The Dictionary after sorting according to name:\n",
      "{6: 'f', 2: 's'}\n",
      "\n",
      "Q.6(c)\n",
      "The Dictionary after sorting according to SID:\n",
      "{2: 's', 6: 'f'}\n",
      "\n",
      "Q.6(d)\n"
     ]
    },
    {
     "ename": "KeyboardInterrupt",
     "evalue": "Interrupted by user",
     "output_type": "error",
     "traceback": [
      "\u001b[1;31m---------------------------------------------------------------------------\u001b[0m",
      "\u001b[1;31mKeyboardInterrupt\u001b[0m                         Traceback (most recent call last)",
      "\u001b[1;32m~\\AppData\\Local\\Temp/ipykernel_14184/4177846695.py\u001b[0m in \u001b[0;36m<module>\u001b[1;34m\u001b[0m\n\u001b[0;32m     46\u001b[0m \u001b[0mprint\u001b[0m\u001b[1;33m(\u001b[0m\u001b[1;34m\"\\nQ.6(d)\"\u001b[0m\u001b[1;33m)\u001b[0m\u001b[1;33m\u001b[0m\u001b[1;33m\u001b[0m\u001b[0m\n\u001b[0;32m     47\u001b[0m \u001b[1;33m\u001b[0m\u001b[0m\n\u001b[1;32m---> 48\u001b[1;33m \u001b[0menter_sid\u001b[0m \u001b[1;33m=\u001b[0m \u001b[0mint\u001b[0m\u001b[1;33m(\u001b[0m\u001b[0minput\u001b[0m\u001b[1;33m(\u001b[0m\u001b[1;34m\"Enter SID to get name of student:\"\u001b[0m\u001b[1;33m)\u001b[0m\u001b[1;33m)\u001b[0m\u001b[1;33m\u001b[0m\u001b[1;33m\u001b[0m\u001b[0m\n\u001b[0m\u001b[0;32m     49\u001b[0m \u001b[1;33m\u001b[0m\u001b[0m\n\u001b[0;32m     50\u001b[0m \u001b[0moutput_name\u001b[0m \u001b[1;33m=\u001b[0m \u001b[0mstr\u001b[0m\u001b[1;33m(\u001b[0m\u001b[0mdic\u001b[0m\u001b[1;33m.\u001b[0m\u001b[0mget\u001b[0m\u001b[1;33m(\u001b[0m\u001b[0menter_sid\u001b[0m\u001b[1;33m)\u001b[0m\u001b[1;33m)\u001b[0m\u001b[1;33m\u001b[0m\u001b[1;33m\u001b[0m\u001b[0m\n",
      "\u001b[1;32m~\\anaconda3\\lib\\site-packages\\ipykernel\\kernelbase.py\u001b[0m in \u001b[0;36mraw_input\u001b[1;34m(self, prompt)\u001b[0m\n\u001b[0;32m   1004\u001b[0m                 \u001b[1;34m\"raw_input was called, but this frontend does not support input requests.\"\u001b[0m\u001b[1;33m\u001b[0m\u001b[1;33m\u001b[0m\u001b[0m\n\u001b[0;32m   1005\u001b[0m             )\n\u001b[1;32m-> 1006\u001b[1;33m         return self._input_request(\n\u001b[0m\u001b[0;32m   1007\u001b[0m             \u001b[0mstr\u001b[0m\u001b[1;33m(\u001b[0m\u001b[0mprompt\u001b[0m\u001b[1;33m)\u001b[0m\u001b[1;33m,\u001b[0m\u001b[1;33m\u001b[0m\u001b[1;33m\u001b[0m\u001b[0m\n\u001b[0;32m   1008\u001b[0m             \u001b[0mself\u001b[0m\u001b[1;33m.\u001b[0m\u001b[0m_parent_ident\u001b[0m\u001b[1;33m[\u001b[0m\u001b[1;34m\"shell\"\u001b[0m\u001b[1;33m]\u001b[0m\u001b[1;33m,\u001b[0m\u001b[1;33m\u001b[0m\u001b[1;33m\u001b[0m\u001b[0m\n",
      "\u001b[1;32m~\\anaconda3\\lib\\site-packages\\ipykernel\\kernelbase.py\u001b[0m in \u001b[0;36m_input_request\u001b[1;34m(self, prompt, ident, parent, password)\u001b[0m\n\u001b[0;32m   1049\u001b[0m             \u001b[1;32mexcept\u001b[0m \u001b[0mKeyboardInterrupt\u001b[0m\u001b[1;33m:\u001b[0m\u001b[1;33m\u001b[0m\u001b[1;33m\u001b[0m\u001b[0m\n\u001b[0;32m   1050\u001b[0m                 \u001b[1;31m# re-raise KeyboardInterrupt, to truncate traceback\u001b[0m\u001b[1;33m\u001b[0m\u001b[1;33m\u001b[0m\u001b[0m\n\u001b[1;32m-> 1051\u001b[1;33m                 \u001b[1;32mraise\u001b[0m \u001b[0mKeyboardInterrupt\u001b[0m\u001b[1;33m(\u001b[0m\u001b[1;34m\"Interrupted by user\"\u001b[0m\u001b[1;33m)\u001b[0m \u001b[1;32mfrom\u001b[0m \u001b[1;32mNone\u001b[0m\u001b[1;33m\u001b[0m\u001b[1;33m\u001b[0m\u001b[0m\n\u001b[0m\u001b[0;32m   1052\u001b[0m             \u001b[1;32mexcept\u001b[0m \u001b[0mException\u001b[0m\u001b[1;33m:\u001b[0m\u001b[1;33m\u001b[0m\u001b[1;33m\u001b[0m\u001b[0m\n\u001b[0;32m   1053\u001b[0m                 \u001b[0mself\u001b[0m\u001b[1;33m.\u001b[0m\u001b[0mlog\u001b[0m\u001b[1;33m.\u001b[0m\u001b[0mwarning\u001b[0m\u001b[1;33m(\u001b[0m\u001b[1;34m\"Invalid Message:\"\u001b[0m\u001b[1;33m,\u001b[0m \u001b[0mexc_info\u001b[0m\u001b[1;33m=\u001b[0m\u001b[1;32mTrue\u001b[0m\u001b[1;33m)\u001b[0m\u001b[1;33m\u001b[0m\u001b[1;33m\u001b[0m\u001b[0m\n",
      "\u001b[1;31mKeyboardInterrupt\u001b[0m: Interrupted by user"
     ]
    }
   ],
   "source": [
    "repeat=\"Y\"\n",
    "dic={}\n",
    "dic2={}\n",
    "\n",
    "liste=[\"Y\",\"y\",\"n\",\"N\"]\n",
    "while repeat==\"Y\" or repeat==\"y\":\n",
    "    \n",
    "    name = str(input(\"Enter student name:\"))\n",
    "    sid = int(input(\"Enter student SID:\"))\n",
    "    if sid<0:\n",
    "        print(\"\\nError\\nSID can't be negative\\n\")\n",
    "    else:\n",
    "       \n",
    "        dic.update({sid: name})\n",
    "        \n",
    "        dic2.update({name:sid})\n",
    "       \n",
    "        repeat = str(input(\"Enter Y to continue or N to end:\"))\n",
    "    if repeat==\"N\" or repeat==\"n\":\n",
    "        break\n",
    "    elif (not (repeat in liste)):\n",
    "        print(\"\\nError\\nPlease enter valid input['Y' or 'N']\")\n",
    "        repeat=str(input(\"\\nEnter Y to continue or N to end:\"))\n",
    "\n",
    "\n",
    "print(\"\\nQ.6(a)\")\n",
    "print(\"The Dictionary containing {'SID':'Name'} is shown below\")\n",
    "print(dic)\n",
    "\n",
    "print(\"\\nQ.6(b)\")\n",
    "list_k=sorted(dic2)\n",
    "dic3={}\n",
    "for ele in list_k:\n",
    "    dic3.update({dic2.get(ele):ele})\n",
    "print(\"The Dictionary after sorting according to name:\")\n",
    "print(dic3)\n",
    "\n",
    "print(\"\\nQ.6(c)\")\n",
    "sort_dic = sorted(dic)\n",
    "dic4 = {}\n",
    "for va in sort_dic:\n",
    "    dic4.update({va: dic.get(va)})\n",
    "print(\"The Dictionary after sorting according to SID:\")\n",
    "print(dic4)\n",
    "\n",
    "print(\"\\nQ.6(d)\")\n",
    "\n",
    "enter_sid = int(input(\"Enter SID to get name of student:\"))\n",
    "\n",
    "output_name = str(dic.get(enter_sid))\n",
    "\n",
    "print(f\"Name of student with SID {enter_sid} is {output_name}.\")"
   ]
  },
  {
   "cell_type": "code",
   "execution_count": 8,
   "id": "75b84176",
   "metadata": {},
   "outputs": [
    {
     "name": "stdout",
     "output_type": "stream",
     "text": [
      "enter the end limit 78\n",
      "1\n",
      "2\n",
      "3\n",
      "5\n",
      "8\n",
      "13\n",
      "21\n",
      "34\n",
      "55\n"
     ]
    }
   ],
   "source": [
    "c=0\n",
    "d=1\n",
    "m=c+d\n",
    "l= int(input(\"enter the end limit \"))\n",
    "while m <= l:\n",
    "   \n",
    "    print(m)\n",
    "    c=d\n",
    "    d=m\n",
    "    m=c+d"
   ]
  },
  {
   "cell_type": "code",
   "execution_count": 103,
   "id": "d9501fe7",
   "metadata": {},
   "outputs": [
    {
     "name": "stdout",
     "output_type": "stream",
     "text": [
      "{2, 4}\n",
      "{17, 3, 6, 8, 9, 13}\n",
      "{1, 2, 4, 5}\n",
      "{6, 7, 8, 9, 10}\n",
      "{10, 7}\n"
     ]
    }
   ],
   "source": [
    "set1={1,2,3,4,5}\n",
    "set2={2,4,6,8}\n",
    "set3={1,5,9,13,17}\n",
    "print(set1.intersection(set2)) #a\n",
    " \n",
    "x= set1.symmetric_difference(set2) #b\n",
    "print(x.symmetric_difference(set3))\n",
    "\n",
    "y=set1.intersection(set2)#c\n",
    "z=set2.intersection(set3)\n",
    "a=set3.intersection(set1)\n",
    "\n",
    "l=a.symmetric_difference(z)\n",
    "m=y.symmetric_difference(a)\n",
    "n=z.symmetric_difference(y)\n",
    "\n",
    "p=l.union(m)\n",
    "q=p.union(n)\n",
    "\n",
    "\n",
    "print(q)\n",
    "\n",
    "\n",
    "lol={1,2,3,4,5,6,7,8,9,10}#d\n",
    "print(lol.symmetric_difference(set1))\n",
    "\n",
    "\n",
    "lol={1,2,3,4,5,6,7,8,9,10}#e\n",
    "i=lol.symmetric_difference(set1)\n",
    "j=lol.symmetric_difference(set2)\n",
    "k=lol.symmetric_difference(set3)\n",
    "\n",
    "u=i.intersection(j)\n",
    "w=i.intersection(k)\n",
    "v=u.intersection(j)\n",
    "\n",
    "fu=u.intersection(w)\n",
    "mar=fu.intersection(v)\n",
    "\n",
    "print(mar)\n"
   ]
  },
  {
   "cell_type": "code",
   "execution_count": null,
   "id": "e76cc06b",
   "metadata": {},
   "outputs": [],
   "source": []
  }
 ],
 "metadata": {
  "kernelspec": {
   "display_name": "Python 3 (ipykernel)",
   "language": "python",
   "name": "python3"
  },
  "language_info": {
   "codemirror_mode": {
    "name": "ipython",
    "version": 3
   },
   "file_extension": ".py",
   "mimetype": "text/x-python",
   "name": "python",
   "nbconvert_exporter": "python",
   "pygments_lexer": "ipython3",
   "version": "3.9.7"
  }
 },
 "nbformat": 4,
 "nbformat_minor": 5
}
